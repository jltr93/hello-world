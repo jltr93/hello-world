{
 "cells": [
  {
   "cell_type": "code",
   "execution_count": 122,
   "metadata": {},
   "outputs": [
    {
     "output_type": "execute_result",
     "data": {
      "text/plain": [
       "             town  flat_type      flat_model  floor_area_sqm  \\\n",
       "0      ANG MO KIO     2 ROOM        Improved            44.0   \n",
       "1      ANG MO KIO     3 ROOM  New Generation            67.0   \n",
       "2      ANG MO KIO     3 ROOM  New Generation            67.0   \n",
       "3      ANG MO KIO     3 ROOM  New Generation            68.0   \n",
       "4      ANG MO KIO     3 ROOM  New Generation            67.0   \n",
       "...           ...        ...             ...             ...   \n",
       "92265      YISHUN  EXECUTIVE      Maisonette           148.0   \n",
       "92266      YISHUN  EXECUTIVE      Maisonette           146.0   \n",
       "92267      YISHUN  EXECUTIVE      Maisonette           146.0   \n",
       "92268      YISHUN  EXECUTIVE       Apartment           142.0   \n",
       "92269      YISHUN  EXECUTIVE      Maisonette           145.0   \n",
       "\n",
       "             street_name  resale_price    month     remaining_lease  \\\n",
       "0      ANG MO KIO AVE 10      232000.0  2017-01  61 years 04 months   \n",
       "1       ANG MO KIO AVE 4      250000.0  2017-01  60 years 07 months   \n",
       "2       ANG MO KIO AVE 5      262000.0  2017-01  62 years 05 months   \n",
       "3      ANG MO KIO AVE 10      265000.0  2017-01   62 years 01 month   \n",
       "4       ANG MO KIO AVE 5      265000.0  2017-01  62 years 05 months   \n",
       "...                  ...           ...      ...                 ...   \n",
       "92265       YISHUN AVE 6      655000.0  2021-02  66 years 08 months   \n",
       "92266     YISHUN RING RD      650000.0  2021-02  66 years 10 months   \n",
       "92267     YISHUN RING RD      607000.0  2021-02  66 years 02 months   \n",
       "92268       YISHUN ST 81      670000.0  2021-02            66 years   \n",
       "92269       YISHUN ST 81      660000.0  2021-02  65 years 10 months   \n",
       "\n",
       "       lease_commence_date storey_range    _id block  \n",
       "0                     1979     10 TO 12      1   406  \n",
       "1                     1978     01 TO 03      2   108  \n",
       "2                     1980     01 TO 03      3   602  \n",
       "3                     1980     04 TO 06      4   465  \n",
       "4                     1980     01 TO 03      5   601  \n",
       "...                    ...          ...    ...   ...  \n",
       "92265                 1988     10 TO 12  92266   406  \n",
       "92266                 1988     10 TO 12  92267   355  \n",
       "92267                 1988     01 TO 03  92268   364  \n",
       "92268                 1988     01 TO 03  92269   828  \n",
       "92269                 1987     07 TO 09  92270   877  \n",
       "\n",
       "[92270 rows x 12 columns]"
      ],
      "text/html": "<div>\n<style scoped>\n    .dataframe tbody tr th:only-of-type {\n        vertical-align: middle;\n    }\n\n    .dataframe tbody tr th {\n        vertical-align: top;\n    }\n\n    .dataframe thead th {\n        text-align: right;\n    }\n</style>\n<table border=\"1\" class=\"dataframe\">\n  <thead>\n    <tr style=\"text-align: right;\">\n      <th></th>\n      <th>town</th>\n      <th>flat_type</th>\n      <th>flat_model</th>\n      <th>floor_area_sqm</th>\n      <th>street_name</th>\n      <th>resale_price</th>\n      <th>month</th>\n      <th>remaining_lease</th>\n      <th>lease_commence_date</th>\n      <th>storey_range</th>\n      <th>_id</th>\n      <th>block</th>\n    </tr>\n  </thead>\n  <tbody>\n    <tr>\n      <th>0</th>\n      <td>ANG MO KIO</td>\n      <td>2 ROOM</td>\n      <td>Improved</td>\n      <td>44.0</td>\n      <td>ANG MO KIO AVE 10</td>\n      <td>232000.0</td>\n      <td>2017-01</td>\n      <td>61 years 04 months</td>\n      <td>1979</td>\n      <td>10 TO 12</td>\n      <td>1</td>\n      <td>406</td>\n    </tr>\n    <tr>\n      <th>1</th>\n      <td>ANG MO KIO</td>\n      <td>3 ROOM</td>\n      <td>New Generation</td>\n      <td>67.0</td>\n      <td>ANG MO KIO AVE 4</td>\n      <td>250000.0</td>\n      <td>2017-01</td>\n      <td>60 years 07 months</td>\n      <td>1978</td>\n      <td>01 TO 03</td>\n      <td>2</td>\n      <td>108</td>\n    </tr>\n    <tr>\n      <th>2</th>\n      <td>ANG MO KIO</td>\n      <td>3 ROOM</td>\n      <td>New Generation</td>\n      <td>67.0</td>\n      <td>ANG MO KIO AVE 5</td>\n      <td>262000.0</td>\n      <td>2017-01</td>\n      <td>62 years 05 months</td>\n      <td>1980</td>\n      <td>01 TO 03</td>\n      <td>3</td>\n      <td>602</td>\n    </tr>\n    <tr>\n      <th>3</th>\n      <td>ANG MO KIO</td>\n      <td>3 ROOM</td>\n      <td>New Generation</td>\n      <td>68.0</td>\n      <td>ANG MO KIO AVE 10</td>\n      <td>265000.0</td>\n      <td>2017-01</td>\n      <td>62 years 01 month</td>\n      <td>1980</td>\n      <td>04 TO 06</td>\n      <td>4</td>\n      <td>465</td>\n    </tr>\n    <tr>\n      <th>4</th>\n      <td>ANG MO KIO</td>\n      <td>3 ROOM</td>\n      <td>New Generation</td>\n      <td>67.0</td>\n      <td>ANG MO KIO AVE 5</td>\n      <td>265000.0</td>\n      <td>2017-01</td>\n      <td>62 years 05 months</td>\n      <td>1980</td>\n      <td>01 TO 03</td>\n      <td>5</td>\n      <td>601</td>\n    </tr>\n    <tr>\n      <th>...</th>\n      <td>...</td>\n      <td>...</td>\n      <td>...</td>\n      <td>...</td>\n      <td>...</td>\n      <td>...</td>\n      <td>...</td>\n      <td>...</td>\n      <td>...</td>\n      <td>...</td>\n      <td>...</td>\n      <td>...</td>\n    </tr>\n    <tr>\n      <th>92265</th>\n      <td>YISHUN</td>\n      <td>EXECUTIVE</td>\n      <td>Maisonette</td>\n      <td>148.0</td>\n      <td>YISHUN AVE 6</td>\n      <td>655000.0</td>\n      <td>2021-02</td>\n      <td>66 years 08 months</td>\n      <td>1988</td>\n      <td>10 TO 12</td>\n      <td>92266</td>\n      <td>406</td>\n    </tr>\n    <tr>\n      <th>92266</th>\n      <td>YISHUN</td>\n      <td>EXECUTIVE</td>\n      <td>Maisonette</td>\n      <td>146.0</td>\n      <td>YISHUN RING RD</td>\n      <td>650000.0</td>\n      <td>2021-02</td>\n      <td>66 years 10 months</td>\n      <td>1988</td>\n      <td>10 TO 12</td>\n      <td>92267</td>\n      <td>355</td>\n    </tr>\n    <tr>\n      <th>92267</th>\n      <td>YISHUN</td>\n      <td>EXECUTIVE</td>\n      <td>Maisonette</td>\n      <td>146.0</td>\n      <td>YISHUN RING RD</td>\n      <td>607000.0</td>\n      <td>2021-02</td>\n      <td>66 years 02 months</td>\n      <td>1988</td>\n      <td>01 TO 03</td>\n      <td>92268</td>\n      <td>364</td>\n    </tr>\n    <tr>\n      <th>92268</th>\n      <td>YISHUN</td>\n      <td>EXECUTIVE</td>\n      <td>Apartment</td>\n      <td>142.0</td>\n      <td>YISHUN ST 81</td>\n      <td>670000.0</td>\n      <td>2021-02</td>\n      <td>66 years</td>\n      <td>1988</td>\n      <td>01 TO 03</td>\n      <td>92269</td>\n      <td>828</td>\n    </tr>\n    <tr>\n      <th>92269</th>\n      <td>YISHUN</td>\n      <td>EXECUTIVE</td>\n      <td>Maisonette</td>\n      <td>145.0</td>\n      <td>YISHUN ST 81</td>\n      <td>660000.0</td>\n      <td>2021-02</td>\n      <td>65 years 10 months</td>\n      <td>1987</td>\n      <td>07 TO 09</td>\n      <td>92270</td>\n      <td>877</td>\n    </tr>\n  </tbody>\n</table>\n<p>92270 rows × 12 columns</p>\n</div>"
     },
     "metadata": {},
     "execution_count": 122
    }
   ],
   "source": [
    "import requests\n",
    "import pandas as pd\n",
    "import matplotlib.pyplot as plt\n",
    "import numpy as np\n",
    "import seaborn as sns\n",
    "\n",
    "from scipy.stats import norm\n",
    "from sklearn.preprocessing import StandardScaler\n",
    "from scipy import stats\n",
    "import warnings\n",
    "\n",
    "response = requests.get('https://data.gov.sg/api/action/datastore_search?resource_id=42ff9cfe-abe5-4b54-beda-c88f9bb438ee&limit=100000')\n",
    "\n",
    "response2 = response.json()\n",
    "response2\n",
    "\n",
    "result = response2.get('result')\n",
    "result\n",
    "records = result.get('records')\n",
    "records\n",
    "\n",
    "import json\n",
    "\n",
    "json_string = json.dumps(records)\n",
    "json_string\n",
    "\n",
    "df = pd.read_json(json_string)\n",
    "\n",
    "df"
   ]
  },
  {
   "cell_type": "code",
   "execution_count": 115,
   "metadata": {},
   "outputs": [
    {
     "output_type": "execute_result",
     "data": {
      "text/plain": [
       "         town flat_type      flat_model  floor_area_sqm        street_name  \\\n",
       "0  ANG MO KIO    2 ROOM        Improved              44  ANG MO KIO AVE 10   \n",
       "1  ANG MO KIO    3 ROOM  New Generation              67   ANG MO KIO AVE 4   \n",
       "2  ANG MO KIO    3 ROOM  New Generation              67   ANG MO KIO AVE 5   \n",
       "3  ANG MO KIO    3 ROOM  New Generation              68  ANG MO KIO AVE 10   \n",
       "4  ANG MO KIO    3 ROOM  New Generation              67   ANG MO KIO AVE 5   \n",
       "5  ANG MO KIO    3 ROOM  New Generation              68   ANG MO KIO AVE 5   \n",
       "\n",
       "   resale_price    month     remaining_lease  lease_commence_date  \\\n",
       "0        232000  2017-01  61 years 04 months                 1979   \n",
       "1        250000  2017-01  60 years 07 months                 1978   \n",
       "2        262000  2017-01  62 years 05 months                 1980   \n",
       "3        265000  2017-01   62 years 01 month                 1980   \n",
       "4        265000  2017-01  62 years 05 months                 1980   \n",
       "5        275000  2017-01            63 years                 1981   \n",
       "\n",
       "  storey_range  _id  block  year_of_sale  month_of_sale  \\\n",
       "0     10 TO 12    1    406          2017              1   \n",
       "1     01 TO 03    2    108          2017              1   \n",
       "2     01 TO 03    3    602          2017              1   \n",
       "3     04 TO 06    4    465          2017              1   \n",
       "4     01 TO 03    5    601          2017              1   \n",
       "5     01 TO 03    6    150          2017              1   \n",
       "\n",
       "   remaining_lease_years  remaining_lease_months  storey_range_min  \\\n",
       "0                     61                       4                10   \n",
       "1                     60                       7                 1   \n",
       "2                     62                       5                 1   \n",
       "3                     62                       1                 4   \n",
       "4                     62                       5                 1   \n",
       "5                     63                       0                 1   \n",
       "\n",
       "   storey_range_max date_of_sale  storey_average  \n",
       "0                12   2017-01-01            11.0  \n",
       "1                 3   2017-01-01             2.0  \n",
       "2                 3   2017-01-01             2.0  \n",
       "3                 6   2017-01-01             5.0  \n",
       "4                 3   2017-01-01             2.0  \n",
       "5                 3   2017-01-01             2.0  "
      ],
      "text/html": "<div>\n<style scoped>\n    .dataframe tbody tr th:only-of-type {\n        vertical-align: middle;\n    }\n\n    .dataframe tbody tr th {\n        vertical-align: top;\n    }\n\n    .dataframe thead th {\n        text-align: right;\n    }\n</style>\n<table border=\"1\" class=\"dataframe\">\n  <thead>\n    <tr style=\"text-align: right;\">\n      <th></th>\n      <th>town</th>\n      <th>flat_type</th>\n      <th>flat_model</th>\n      <th>floor_area_sqm</th>\n      <th>street_name</th>\n      <th>resale_price</th>\n      <th>month</th>\n      <th>remaining_lease</th>\n      <th>lease_commence_date</th>\n      <th>storey_range</th>\n      <th>_id</th>\n      <th>block</th>\n      <th>year_of_sale</th>\n      <th>month_of_sale</th>\n      <th>remaining_lease_years</th>\n      <th>remaining_lease_months</th>\n      <th>storey_range_min</th>\n      <th>storey_range_max</th>\n      <th>date_of_sale</th>\n      <th>storey_average</th>\n    </tr>\n  </thead>\n  <tbody>\n    <tr>\n      <th>0</th>\n      <td>ANG MO KIO</td>\n      <td>2 ROOM</td>\n      <td>Improved</td>\n      <td>44</td>\n      <td>ANG MO KIO AVE 10</td>\n      <td>232000</td>\n      <td>2017-01</td>\n      <td>61 years 04 months</td>\n      <td>1979</td>\n      <td>10 TO 12</td>\n      <td>1</td>\n      <td>406</td>\n      <td>2017</td>\n      <td>1</td>\n      <td>61</td>\n      <td>4</td>\n      <td>10</td>\n      <td>12</td>\n      <td>2017-01-01</td>\n      <td>11.0</td>\n    </tr>\n    <tr>\n      <th>1</th>\n      <td>ANG MO KIO</td>\n      <td>3 ROOM</td>\n      <td>New Generation</td>\n      <td>67</td>\n      <td>ANG MO KIO AVE 4</td>\n      <td>250000</td>\n      <td>2017-01</td>\n      <td>60 years 07 months</td>\n      <td>1978</td>\n      <td>01 TO 03</td>\n      <td>2</td>\n      <td>108</td>\n      <td>2017</td>\n      <td>1</td>\n      <td>60</td>\n      <td>7</td>\n      <td>1</td>\n      <td>3</td>\n      <td>2017-01-01</td>\n      <td>2.0</td>\n    </tr>\n    <tr>\n      <th>2</th>\n      <td>ANG MO KIO</td>\n      <td>3 ROOM</td>\n      <td>New Generation</td>\n      <td>67</td>\n      <td>ANG MO KIO AVE 5</td>\n      <td>262000</td>\n      <td>2017-01</td>\n      <td>62 years 05 months</td>\n      <td>1980</td>\n      <td>01 TO 03</td>\n      <td>3</td>\n      <td>602</td>\n      <td>2017</td>\n      <td>1</td>\n      <td>62</td>\n      <td>5</td>\n      <td>1</td>\n      <td>3</td>\n      <td>2017-01-01</td>\n      <td>2.0</td>\n    </tr>\n    <tr>\n      <th>3</th>\n      <td>ANG MO KIO</td>\n      <td>3 ROOM</td>\n      <td>New Generation</td>\n      <td>68</td>\n      <td>ANG MO KIO AVE 10</td>\n      <td>265000</td>\n      <td>2017-01</td>\n      <td>62 years 01 month</td>\n      <td>1980</td>\n      <td>04 TO 06</td>\n      <td>4</td>\n      <td>465</td>\n      <td>2017</td>\n      <td>1</td>\n      <td>62</td>\n      <td>1</td>\n      <td>4</td>\n      <td>6</td>\n      <td>2017-01-01</td>\n      <td>5.0</td>\n    </tr>\n    <tr>\n      <th>4</th>\n      <td>ANG MO KIO</td>\n      <td>3 ROOM</td>\n      <td>New Generation</td>\n      <td>67</td>\n      <td>ANG MO KIO AVE 5</td>\n      <td>265000</td>\n      <td>2017-01</td>\n      <td>62 years 05 months</td>\n      <td>1980</td>\n      <td>01 TO 03</td>\n      <td>5</td>\n      <td>601</td>\n      <td>2017</td>\n      <td>1</td>\n      <td>62</td>\n      <td>5</td>\n      <td>1</td>\n      <td>3</td>\n      <td>2017-01-01</td>\n      <td>2.0</td>\n    </tr>\n    <tr>\n      <th>5</th>\n      <td>ANG MO KIO</td>\n      <td>3 ROOM</td>\n      <td>New Generation</td>\n      <td>68</td>\n      <td>ANG MO KIO AVE 5</td>\n      <td>275000</td>\n      <td>2017-01</td>\n      <td>63 years</td>\n      <td>1981</td>\n      <td>01 TO 03</td>\n      <td>6</td>\n      <td>150</td>\n      <td>2017</td>\n      <td>1</td>\n      <td>63</td>\n      <td>0</td>\n      <td>1</td>\n      <td>3</td>\n      <td>2017-01-01</td>\n      <td>2.0</td>\n    </tr>\n  </tbody>\n</table>\n</div>"
     },
     "metadata": {},
     "execution_count": 115
    }
   ],
   "source": [
    "df[['year_of_sale','month_of_sale']] = df.month.str.split(\"-\",expand=True)\n",
    "df[['remaining_lease_years','yeartext','remaining_lease_months','monthtext']] = df.remaining_lease.str.split(\" \",expand=True)\n",
    "df[['storey_range_min','storey_range_max']]=df.storey_range.str.split(\" TO \",expand=True)\n",
    "df['date_of_sale']= pd.to_datetime(df['month'])\n",
    "\n",
    "df.remaining_lease_months.fillna(value=0,inplace=True)\n",
    "df.monthtext.fillna(value=0,inplace=True)\n",
    "\n",
    "df = df.astype({\"floor_area_sqm\":int,\"resale_price\":int,\"lease_commence_date\":int,\"year_of_sale\":int,\"month_of_sale\":int,\"remaining_lease_years\":int,\"remaining_lease_months\":int,\"storey_range_min\":int,\"storey_range_max\":int})\n",
    "\n",
    "df['storey_average']=df[['storey_range_min','storey_range_max']].mean(axis=1)\n",
    "\n",
    "df=df.drop(columns=['yeartext','monthtext'])\n",
    "\n",
    "df"
   ]
  },
  {
   "cell_type": "code",
   "execution_count": 123,
   "metadata": {},
   "outputs": [
    {
     "output_type": "execute_result",
     "data": {
      "text/plain": [
       "             town  flat_type      flat_model  floor_area_sqm  \\\n",
       "0      ANG MO KIO     2 ROOM        Improved              44   \n",
       "1      ANG MO KIO     3 ROOM  New Generation              67   \n",
       "2      ANG MO KIO     3 ROOM  New Generation              67   \n",
       "3      ANG MO KIO     3 ROOM  New Generation              68   \n",
       "4      ANG MO KIO     3 ROOM  New Generation              67   \n",
       "...           ...        ...             ...             ...   \n",
       "92265      YISHUN  EXECUTIVE      Maisonette             148   \n",
       "92266      YISHUN  EXECUTIVE      Maisonette             146   \n",
       "92267      YISHUN  EXECUTIVE      Maisonette             146   \n",
       "92268      YISHUN  EXECUTIVE       Apartment             142   \n",
       "92269      YISHUN  EXECUTIVE      Maisonette             145   \n",
       "\n",
       "             street_name  resale_price    month     remaining_lease  \\\n",
       "0      ANG MO KIO AVE 10        232000  2017-01  61 years 04 months   \n",
       "1       ANG MO KIO AVE 4        250000  2017-01  60 years 07 months   \n",
       "2       ANG MO KIO AVE 5        262000  2017-01  62 years 05 months   \n",
       "3      ANG MO KIO AVE 10        265000  2017-01   62 years 01 month   \n",
       "4       ANG MO KIO AVE 5        265000  2017-01  62 years 05 months   \n",
       "...                  ...           ...      ...                 ...   \n",
       "92265       YISHUN AVE 6        655000  2021-02  66 years 08 months   \n",
       "92266     YISHUN RING RD        650000  2021-02  66 years 10 months   \n",
       "92267     YISHUN RING RD        607000  2021-02  66 years 02 months   \n",
       "92268       YISHUN ST 81        670000  2021-02            66 years   \n",
       "92269       YISHUN ST 81        660000  2021-02  65 years 10 months   \n",
       "\n",
       "       lease_commence_date storey_range    _id block  year_of_sale  \\\n",
       "0                     1979     10 TO 12      1   406          2017   \n",
       "1                     1978     01 TO 03      2   108          2017   \n",
       "2                     1980     01 TO 03      3   602          2017   \n",
       "3                     1980     04 TO 06      4   465          2017   \n",
       "4                     1980     01 TO 03      5   601          2017   \n",
       "...                    ...          ...    ...   ...           ...   \n",
       "92265                 1988     10 TO 12  92266   406          2021   \n",
       "92266                 1988     10 TO 12  92267   355          2021   \n",
       "92267                 1988     01 TO 03  92268   364          2021   \n",
       "92268                 1988     01 TO 03  92269   828          2021   \n",
       "92269                 1987     07 TO 09  92270   877          2021   \n",
       "\n",
       "       month_of_sale  remaining_lease_years  remaining_lease_months  \\\n",
       "0                  1                     61                       4   \n",
       "1                  1                     60                       7   \n",
       "2                  1                     62                       5   \n",
       "3                  1                     62                       1   \n",
       "4                  1                     62                       5   \n",
       "...              ...                    ...                     ...   \n",
       "92265              2                     66                       8   \n",
       "92266              2                     66                      10   \n",
       "92267              2                     66                       2   \n",
       "92268              2                     66                       0   \n",
       "92269              2                     65                      10   \n",
       "\n",
       "       storey_range_min  storey_range_max date_of_sale  storey_average  \n",
       "0                    10                12   2017-01-01            11.0  \n",
       "1                     1                 3   2017-01-01             2.0  \n",
       "2                     1                 3   2017-01-01             2.0  \n",
       "3                     4                 6   2017-01-01             5.0  \n",
       "4                     1                 3   2017-01-01             2.0  \n",
       "...                 ...               ...          ...             ...  \n",
       "92265                10                12   2021-02-01            11.0  \n",
       "92266                10                12   2021-02-01            11.0  \n",
       "92267                 1                 3   2021-02-01             2.0  \n",
       "92268                 1                 3   2021-02-01             2.0  \n",
       "92269                 7                 9   2021-02-01             8.0  \n",
       "\n",
       "[92270 rows x 20 columns]"
      ],
      "text/html": "<div>\n<style scoped>\n    .dataframe tbody tr th:only-of-type {\n        vertical-align: middle;\n    }\n\n    .dataframe tbody tr th {\n        vertical-align: top;\n    }\n\n    .dataframe thead th {\n        text-align: right;\n    }\n</style>\n<table border=\"1\" class=\"dataframe\">\n  <thead>\n    <tr style=\"text-align: right;\">\n      <th></th>\n      <th>town</th>\n      <th>flat_type</th>\n      <th>flat_model</th>\n      <th>floor_area_sqm</th>\n      <th>street_name</th>\n      <th>resale_price</th>\n      <th>month</th>\n      <th>remaining_lease</th>\n      <th>lease_commence_date</th>\n      <th>storey_range</th>\n      <th>_id</th>\n      <th>block</th>\n      <th>year_of_sale</th>\n      <th>month_of_sale</th>\n      <th>remaining_lease_years</th>\n      <th>remaining_lease_months</th>\n      <th>storey_range_min</th>\n      <th>storey_range_max</th>\n      <th>date_of_sale</th>\n      <th>storey_average</th>\n    </tr>\n  </thead>\n  <tbody>\n    <tr>\n      <th>0</th>\n      <td>ANG MO KIO</td>\n      <td>2 ROOM</td>\n      <td>Improved</td>\n      <td>44</td>\n      <td>ANG MO KIO AVE 10</td>\n      <td>232000</td>\n      <td>2017-01</td>\n      <td>61 years 04 months</td>\n      <td>1979</td>\n      <td>10 TO 12</td>\n      <td>1</td>\n      <td>406</td>\n      <td>2017</td>\n      <td>1</td>\n      <td>61</td>\n      <td>4</td>\n      <td>10</td>\n      <td>12</td>\n      <td>2017-01-01</td>\n      <td>11.0</td>\n    </tr>\n    <tr>\n      <th>1</th>\n      <td>ANG MO KIO</td>\n      <td>3 ROOM</td>\n      <td>New Generation</td>\n      <td>67</td>\n      <td>ANG MO KIO AVE 4</td>\n      <td>250000</td>\n      <td>2017-01</td>\n      <td>60 years 07 months</td>\n      <td>1978</td>\n      <td>01 TO 03</td>\n      <td>2</td>\n      <td>108</td>\n      <td>2017</td>\n      <td>1</td>\n      <td>60</td>\n      <td>7</td>\n      <td>1</td>\n      <td>3</td>\n      <td>2017-01-01</td>\n      <td>2.0</td>\n    </tr>\n    <tr>\n      <th>2</th>\n      <td>ANG MO KIO</td>\n      <td>3 ROOM</td>\n      <td>New Generation</td>\n      <td>67</td>\n      <td>ANG MO KIO AVE 5</td>\n      <td>262000</td>\n      <td>2017-01</td>\n      <td>62 years 05 months</td>\n      <td>1980</td>\n      <td>01 TO 03</td>\n      <td>3</td>\n      <td>602</td>\n      <td>2017</td>\n      <td>1</td>\n      <td>62</td>\n      <td>5</td>\n      <td>1</td>\n      <td>3</td>\n      <td>2017-01-01</td>\n      <td>2.0</td>\n    </tr>\n    <tr>\n      <th>3</th>\n      <td>ANG MO KIO</td>\n      <td>3 ROOM</td>\n      <td>New Generation</td>\n      <td>68</td>\n      <td>ANG MO KIO AVE 10</td>\n      <td>265000</td>\n      <td>2017-01</td>\n      <td>62 years 01 month</td>\n      <td>1980</td>\n      <td>04 TO 06</td>\n      <td>4</td>\n      <td>465</td>\n      <td>2017</td>\n      <td>1</td>\n      <td>62</td>\n      <td>1</td>\n      <td>4</td>\n      <td>6</td>\n      <td>2017-01-01</td>\n      <td>5.0</td>\n    </tr>\n    <tr>\n      <th>4</th>\n      <td>ANG MO KIO</td>\n      <td>3 ROOM</td>\n      <td>New Generation</td>\n      <td>67</td>\n      <td>ANG MO KIO AVE 5</td>\n      <td>265000</td>\n      <td>2017-01</td>\n      <td>62 years 05 months</td>\n      <td>1980</td>\n      <td>01 TO 03</td>\n      <td>5</td>\n      <td>601</td>\n      <td>2017</td>\n      <td>1</td>\n      <td>62</td>\n      <td>5</td>\n      <td>1</td>\n      <td>3</td>\n      <td>2017-01-01</td>\n      <td>2.0</td>\n    </tr>\n    <tr>\n      <th>...</th>\n      <td>...</td>\n      <td>...</td>\n      <td>...</td>\n      <td>...</td>\n      <td>...</td>\n      <td>...</td>\n      <td>...</td>\n      <td>...</td>\n      <td>...</td>\n      <td>...</td>\n      <td>...</td>\n      <td>...</td>\n      <td>...</td>\n      <td>...</td>\n      <td>...</td>\n      <td>...</td>\n      <td>...</td>\n      <td>...</td>\n      <td>...</td>\n      <td>...</td>\n    </tr>\n    <tr>\n      <th>92265</th>\n      <td>YISHUN</td>\n      <td>EXECUTIVE</td>\n      <td>Maisonette</td>\n      <td>148</td>\n      <td>YISHUN AVE 6</td>\n      <td>655000</td>\n      <td>2021-02</td>\n      <td>66 years 08 months</td>\n      <td>1988</td>\n      <td>10 TO 12</td>\n      <td>92266</td>\n      <td>406</td>\n      <td>2021</td>\n      <td>2</td>\n      <td>66</td>\n      <td>8</td>\n      <td>10</td>\n      <td>12</td>\n      <td>2021-02-01</td>\n      <td>11.0</td>\n    </tr>\n    <tr>\n      <th>92266</th>\n      <td>YISHUN</td>\n      <td>EXECUTIVE</td>\n      <td>Maisonette</td>\n      <td>146</td>\n      <td>YISHUN RING RD</td>\n      <td>650000</td>\n      <td>2021-02</td>\n      <td>66 years 10 months</td>\n      <td>1988</td>\n      <td>10 TO 12</td>\n      <td>92267</td>\n      <td>355</td>\n      <td>2021</td>\n      <td>2</td>\n      <td>66</td>\n      <td>10</td>\n      <td>10</td>\n      <td>12</td>\n      <td>2021-02-01</td>\n      <td>11.0</td>\n    </tr>\n    <tr>\n      <th>92267</th>\n      <td>YISHUN</td>\n      <td>EXECUTIVE</td>\n      <td>Maisonette</td>\n      <td>146</td>\n      <td>YISHUN RING RD</td>\n      <td>607000</td>\n      <td>2021-02</td>\n      <td>66 years 02 months</td>\n      <td>1988</td>\n      <td>01 TO 03</td>\n      <td>92268</td>\n      <td>364</td>\n      <td>2021</td>\n      <td>2</td>\n      <td>66</td>\n      <td>2</td>\n      <td>1</td>\n      <td>3</td>\n      <td>2021-02-01</td>\n      <td>2.0</td>\n    </tr>\n    <tr>\n      <th>92268</th>\n      <td>YISHUN</td>\n      <td>EXECUTIVE</td>\n      <td>Apartment</td>\n      <td>142</td>\n      <td>YISHUN ST 81</td>\n      <td>670000</td>\n      <td>2021-02</td>\n      <td>66 years</td>\n      <td>1988</td>\n      <td>01 TO 03</td>\n      <td>92269</td>\n      <td>828</td>\n      <td>2021</td>\n      <td>2</td>\n      <td>66</td>\n      <td>0</td>\n      <td>1</td>\n      <td>3</td>\n      <td>2021-02-01</td>\n      <td>2.0</td>\n    </tr>\n    <tr>\n      <th>92269</th>\n      <td>YISHUN</td>\n      <td>EXECUTIVE</td>\n      <td>Maisonette</td>\n      <td>145</td>\n      <td>YISHUN ST 81</td>\n      <td>660000</td>\n      <td>2021-02</td>\n      <td>65 years 10 months</td>\n      <td>1987</td>\n      <td>07 TO 09</td>\n      <td>92270</td>\n      <td>877</td>\n      <td>2021</td>\n      <td>2</td>\n      <td>65</td>\n      <td>10</td>\n      <td>7</td>\n      <td>9</td>\n      <td>2021-02-01</td>\n      <td>8.0</td>\n    </tr>\n  </tbody>\n</table>\n<p>92270 rows × 20 columns</p>\n</div>"
     },
     "metadata": {},
     "execution_count": 123
    }
   ],
   "source": [
    "#transformation\n",
    "#split year-month of sale string\n",
    "df[['year_of_sale','month_of_sale']] = df.month.str.split(\"-\",expand=True)\n",
    "#split remaining_lease_years string\n",
    "df[['remaining_lease_years','yeartext','remaining_lease_months','monthtext']] = df.remaining_lease.str.split(\" \",expand=True)\n",
    "#split storey min_max string\n",
    "df[['storey_range_min','storey_range_max']]=df.storey_range.str.split(\" TO \",expand=True)\n",
    "#insert new column with datetime format for date of sale\n",
    "df['date_of_sale']= pd.to_datetime(df['month'])\n",
    "#change python None to NaN remaining_lease_months, monthtext\n",
    "df.remaining_lease_months.fillna(value=0,inplace=True)\n",
    "df.monthtext.fillna(value=0,inplace=True)\n",
    "#change required type to int, for comparison\n",
    "df = df.astype({\"floor_area_sqm\":int,\"resale_price\":int,\"lease_commence_date\":int,\"year_of_sale\":int,\"month_of_sale\":int,\"remaining_lease_years\":int,\"remaining_lease_months\":int,\"storey_range_min\":int,\"storey_range_max\":int})\n",
    "#calculate average storey (can be used as actual floor)\n",
    "df['storey_average']=df[['storey_range_min','storey_range_max']].mean(axis=1)\n",
    "#drop unwanted columns\n",
    "df=df.drop(columns=['yeartext','monthtext'])\n",
    "df"
   ]
  },
  {
   "cell_type": "code",
   "execution_count": 129,
   "metadata": {},
   "outputs": [
    {
     "output_type": "error",
     "ename": "TypeError",
     "evalue": "cannot perform reduce with flexible type",
     "traceback": [
      "\u001b[1;31m---------------------------------------------------------------------------\u001b[0m",
      "\u001b[1;31mTypeError\u001b[0m                                 Traceback (most recent call last)",
      "\u001b[1;32m<ipython-input-129-53c174159659>\u001b[0m in \u001b[0;36m<module>\u001b[1;34m\u001b[0m\n\u001b[0;32m      7\u001b[0m \u001b[1;33m\u001b[0m\u001b[0m\n\u001b[0;32m      8\u001b[0m \u001b[0mdf\u001b[0m\u001b[1;33m.\u001b[0m\u001b[0mplot\u001b[0m\u001b[1;33m.\u001b[0m\u001b[0mscatter\u001b[0m\u001b[1;33m(\u001b[0m\u001b[0my\u001b[0m\u001b[1;33m=\u001b[0m\u001b[1;34m\"resale_price\"\u001b[0m\u001b[1;33m,\u001b[0m\u001b[0mx\u001b[0m\u001b[1;33m=\u001b[0m\u001b[1;34m'date_of_sale'\u001b[0m\u001b[1;33m)\u001b[0m\u001b[1;33m\u001b[0m\u001b[1;33m\u001b[0m\u001b[0m\n\u001b[1;32m----> 9\u001b[1;33m \u001b[0mdf\u001b[0m\u001b[1;33m.\u001b[0m\u001b[0mplot\u001b[0m\u001b[1;33m.\u001b[0m\u001b[0mbar\u001b[0m\u001b[1;33m(\u001b[0m\u001b[0mx\u001b[0m\u001b[1;33m=\u001b[0m\u001b[1;34m'flat_type'\u001b[0m\u001b[1;33m,\u001b[0m\u001b[0my\u001b[0m\u001b[1;33m=\u001b[0m\u001b[0mnp\u001b[0m\u001b[1;33m.\u001b[0m\u001b[0mmean\u001b[0m\u001b[1;33m(\u001b[0m\u001b[1;34m'resale_price'\u001b[0m\u001b[1;33m)\u001b[0m\u001b[1;33m)\u001b[0m\u001b[1;33m\u001b[0m\u001b[1;33m\u001b[0m\u001b[0m\n\u001b[0m\u001b[0;32m     10\u001b[0m \u001b[1;33m\u001b[0m\u001b[0m\n\u001b[0;32m     11\u001b[0m \u001b[1;33m\u001b[0m\u001b[0m\n",
      "\u001b[1;32m<__array_function__ internals>\u001b[0m in \u001b[0;36mmean\u001b[1;34m(*args, **kwargs)\u001b[0m\n",
      "\u001b[1;32mD:\\Programming stuff\\anaconda\\lib\\site-packages\\numpy\\core\\fromnumeric.py\u001b[0m in \u001b[0;36mmean\u001b[1;34m(a, axis, dtype, out, keepdims)\u001b[0m\n\u001b[0;32m   3370\u001b[0m             \u001b[1;32mreturn\u001b[0m \u001b[0mmean\u001b[0m\u001b[1;33m(\u001b[0m\u001b[0maxis\u001b[0m\u001b[1;33m=\u001b[0m\u001b[0maxis\u001b[0m\u001b[1;33m,\u001b[0m \u001b[0mdtype\u001b[0m\u001b[1;33m=\u001b[0m\u001b[0mdtype\u001b[0m\u001b[1;33m,\u001b[0m \u001b[0mout\u001b[0m\u001b[1;33m=\u001b[0m\u001b[0mout\u001b[0m\u001b[1;33m,\u001b[0m \u001b[1;33m**\u001b[0m\u001b[0mkwargs\u001b[0m\u001b[1;33m)\u001b[0m\u001b[1;33m\u001b[0m\u001b[1;33m\u001b[0m\u001b[0m\n\u001b[0;32m   3371\u001b[0m \u001b[1;33m\u001b[0m\u001b[0m\n\u001b[1;32m-> 3372\u001b[1;33m     return _methods._mean(a, axis=axis, dtype=dtype,\n\u001b[0m\u001b[0;32m   3373\u001b[0m                           out=out, **kwargs)\n\u001b[0;32m   3374\u001b[0m \u001b[1;33m\u001b[0m\u001b[0m\n",
      "\u001b[1;32mD:\\Programming stuff\\anaconda\\lib\\site-packages\\numpy\\core\\_methods.py\u001b[0m in \u001b[0;36m_mean\u001b[1;34m(a, axis, dtype, out, keepdims)\u001b[0m\n\u001b[0;32m    158\u001b[0m             \u001b[0mis_float16_result\u001b[0m \u001b[1;33m=\u001b[0m \u001b[1;32mTrue\u001b[0m\u001b[1;33m\u001b[0m\u001b[1;33m\u001b[0m\u001b[0m\n\u001b[0;32m    159\u001b[0m \u001b[1;33m\u001b[0m\u001b[0m\n\u001b[1;32m--> 160\u001b[1;33m     \u001b[0mret\u001b[0m \u001b[1;33m=\u001b[0m \u001b[0mumr_sum\u001b[0m\u001b[1;33m(\u001b[0m\u001b[0marr\u001b[0m\u001b[1;33m,\u001b[0m \u001b[0maxis\u001b[0m\u001b[1;33m,\u001b[0m \u001b[0mdtype\u001b[0m\u001b[1;33m,\u001b[0m \u001b[0mout\u001b[0m\u001b[1;33m,\u001b[0m \u001b[0mkeepdims\u001b[0m\u001b[1;33m)\u001b[0m\u001b[1;33m\u001b[0m\u001b[1;33m\u001b[0m\u001b[0m\n\u001b[0m\u001b[0;32m    161\u001b[0m     \u001b[1;32mif\u001b[0m \u001b[0misinstance\u001b[0m\u001b[1;33m(\u001b[0m\u001b[0mret\u001b[0m\u001b[1;33m,\u001b[0m \u001b[0mmu\u001b[0m\u001b[1;33m.\u001b[0m\u001b[0mndarray\u001b[0m\u001b[1;33m)\u001b[0m\u001b[1;33m:\u001b[0m\u001b[1;33m\u001b[0m\u001b[1;33m\u001b[0m\u001b[0m\n\u001b[0;32m    162\u001b[0m         ret = um.true_divide(\n",
      "\u001b[1;31mTypeError\u001b[0m: cannot perform reduce with flexible type"
     ]
    }
   ],
   "source": [
    "\n",
    "df.plot.scatter(y=\"resale_price\",x='date_of_sale')\n",
    "\n",
    "\n",
    "#correlation matrix\n",
    "corrmat = df.corr()\n",
    "f, ax = plt.subplots(figsize=(12, 9))\n",
    "sns.heatmap(corrmat, vmax=.8, square=True);"
   ]
  },
  {
   "cell_type": "code",
   "execution_count": 130,
   "metadata": {},
   "outputs": [
    {
     "output_type": "error",
     "ename": "AttributeError",
     "evalue": "module 'pandas' has no attribute 'Dataframe'",
     "traceback": [
      "\u001b[1;31m---------------------------------------------------------------------------\u001b[0m",
      "\u001b[1;31mAttributeError\u001b[0m                            Traceback (most recent call last)",
      "\u001b[1;32m<ipython-input-130-9dd19a58b463>\u001b[0m in \u001b[0;36m<module>\u001b[1;34m\u001b[0m\n\u001b[1;32m----> 1\u001b[1;33m \u001b[0mchart_data\u001b[0m \u001b[1;33m=\u001b[0m \u001b[0mpd\u001b[0m\u001b[1;33m.\u001b[0m\u001b[0mDataframe\u001b[0m\u001b[1;33m(\u001b[0m\u001b[0mindex\u001b[0m\u001b[1;33m=\u001b[0m\u001b[0mdf\u001b[0m\u001b[1;33m[\u001b[0m\u001b[1;34m'date_of_sale'\u001b[0m\u001b[1;33m]\u001b[0m\u001b[1;33m,\u001b[0m\u001b[0mcolumns\u001b[0m\u001b[1;33m=\u001b[0m\u001b[0mdf\u001b[0m\u001b[1;33m[\u001b[0m\u001b[1;34m'resale_price'\u001b[0m\u001b[1;33m]\u001b[0m\u001b[1;33m)\u001b[0m\u001b[1;33m\u001b[0m\u001b[1;33m\u001b[0m\u001b[0m\n\u001b[0m",
      "\u001b[1;32mD:\\Programming stuff\\anaconda\\lib\\site-packages\\pandas\\__init__.py\u001b[0m in \u001b[0;36m__getattr__\u001b[1;34m(name)\u001b[0m\n\u001b[0;32m    256\u001b[0m             \u001b[1;32mreturn\u001b[0m \u001b[0m_SparseArray\u001b[0m\u001b[1;33m\u001b[0m\u001b[1;33m\u001b[0m\u001b[0m\n\u001b[0;32m    257\u001b[0m \u001b[1;33m\u001b[0m\u001b[0m\n\u001b[1;32m--> 258\u001b[1;33m         \u001b[1;32mraise\u001b[0m \u001b[0mAttributeError\u001b[0m\u001b[1;33m(\u001b[0m\u001b[1;34mf\"module 'pandas' has no attribute '{name}'\"\u001b[0m\u001b[1;33m)\u001b[0m\u001b[1;33m\u001b[0m\u001b[1;33m\u001b[0m\u001b[0m\n\u001b[0m\u001b[0;32m    259\u001b[0m \u001b[1;33m\u001b[0m\u001b[0m\n\u001b[0;32m    260\u001b[0m \u001b[1;33m\u001b[0m\u001b[0m\n",
      "\u001b[1;31mAttributeError\u001b[0m: module 'pandas' has no attribute 'Dataframe'"
     ]
    }
   ],
   "source": []
  }
 ],
 "metadata": {
  "kernelspec": {
   "name": "python3",
   "display_name": "Python 3.8.5 64-bit ('Programming stuff': virtualenv)",
   "metadata": {
    "interpreter": {
     "hash": "d6c257142564a548765cfd7b625723f4b5dec0168500bd6e1a1eeb3b18e675d3"
    }
   }
  }
 },
 "nbformat": 4,
 "nbformat_minor": 4
}