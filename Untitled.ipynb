{
 "cells": [
  {
   "cell_type": "code",
   "execution_count": null,
   "metadata": {},
   "outputs": [],
   "source": [
    "import requests\n",
    "import pandas as pd\n",
    "\n",
    "response = requests.get('https://data.gov.sg/api/action/datastore_search?resource_id=42ff9cfe-abe5-4b54-beda-c88f9bb438ee&limit=200000')\n",
    "\n",
    "response2 = response.json()\n",
    "response2\n",
    "\n",
    "result = response2.get('result')\n",
    "result\n",
    "records = result.get('records')\n",
    "records\n",
    "\n",
    "import json\n",
    "\n",
    "json_string = json.dumps(records)\n",
    "json_string\n",
    "\n",
    "df = pd.read_json(json_string)\n",
    "df"
   ]
  }
 ],
 "metadata": {
  "kernelspec": {
   "name": "python3",
   "display_name": "Python 3.8.5 64-bit (conda)",
   "metadata": {
    "interpreter": {
     "hash": "d6c257142564a548765cfd7b625723f4b5dec0168500bd6e1a1eeb3b18e675d3"
    }
   }
  }
 },
 "nbformat": 4,
 "nbformat_minor": 4
}